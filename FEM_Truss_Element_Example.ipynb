{
 "cells": [
  {
   "cell_type": "raw",
   "metadata": {
    "id": "fF02RCNpESpC"
   },
   "source": [
    "# This Code is Written by Araz Gharehaghajlou for Solving Truss Element Example 3.5 in Book: A First Course in Finite Elements"
   ]
  },
  {
   "cell_type": "markdown",
   "metadata": {},
   "source": [
    "example3_5.JPG\n",
    "![Truss Example](example3_5.JPG)\n"
   ]
  },
  {
   "cell_type": "code",
   "execution_count": 1,
   "metadata": {
    "id": "wBsi-CMtDDbV"
   },
   "outputs": [],
   "source": [
    "import math\n",
    "import numpy as np\n",
    "import matplotlib.pyplot as plt"
   ]
  },
  {
   "cell_type": "code",
   "execution_count": 2,
   "metadata": {
    "id": "ODl64AiVDGh_"
   },
   "outputs": [],
   "source": [
    "#Constants\n",
    "E =30*10**6 #psi\n",
    "A=2 #in^2\n"
   ]
  },
  {
   "cell_type": "code",
   "execution_count": 3,
   "metadata": {
    "id": "sjxLpgWuDPGt"
   },
   "outputs": [],
   "source": [
    "#Element 1 (nodes 1 to 2)\n",
    "theta1=90\n",
    "L=120 #inc\n",
    "theta1 = math.radians(theta1)"
   ]
  },
  {
   "cell_type": "code",
   "execution_count": 4,
   "metadata": {
    "id": "JCC74eJGDVDa"
   },
   "outputs": [],
   "source": [
    "a11=math.cos(theta1)**2\n",
    "a12=math.cos(theta1)*math.sin(theta1)\n",
    "a13=-math.cos(theta1)**2\n",
    "a14=-math.cos(theta1)*math.sin(theta1)\n",
    "\n",
    "a21=math.cos(theta1)*math.sin(theta1)\n",
    "a22=math.sin(theta1)**2\n",
    "a23=-math.cos(theta1)*math.sin(theta1)\n",
    "a24=-math.sin(theta1)**2\n",
    "\n",
    "a31=-math.cos(theta1)**2\n",
    "a32=-math.cos(theta1)*math.sin(theta1)\n",
    "a33=math.cos(theta1)**2\n",
    "a34=math.cos(theta1)*math.sin(theta1)\n",
    "\n",
    "a41=-math.cos(theta1)*math.sin(theta1)\n",
    "a42=-math.sin(theta1)**2\n",
    "a43=math.cos(theta1)*math.sin(theta1)\n",
    "a44=math.sin(theta1)**2"
   ]
  },
  {
   "cell_type": "code",
   "execution_count": 5,
   "metadata": {
    "id": "6DurGPD0DX5y"
   },
   "outputs": [],
   "source": [
    "K1=(E*A/L)*np.array([[a11,a12,a13,a14],\n",
    "                     [a21,a22,a23,a24],\n",
    "                     [a31,a32,a33,a34],\n",
    "                     [a41,a42,a43,a44]])"
   ]
  },
  {
   "cell_type": "code",
   "execution_count": 6,
   "metadata": {
    "id": "Hr4NBkQZDZEc"
   },
   "outputs": [],
   "source": [
    "#Element 2 (nodes 1 to 3)\n",
    "theta2=45\n",
    "L=120 #inc\n",
    "theta2 = math.radians(theta2)"
   ]
  },
  {
   "cell_type": "code",
   "execution_count": 7,
   "metadata": {
    "id": "0zKFfOX9Dbvl"
   },
   "outputs": [],
   "source": [
    "b11=math.cos(theta2)**2\n",
    "b12=math.cos(theta2)*math.sin(theta2)\n",
    "b13=-math.cos(theta2)**2\n",
    "b14=-math.cos(theta2)*math.sin(theta2)\n",
    "\n",
    "b21=math.cos(theta2)*math.sin(theta2)\n",
    "b22=math.sin(theta2)**2\n",
    "b23=-math.cos(theta2)*math.sin(theta2)\n",
    "b24=-math.sin(theta2)**2\n",
    "\n",
    "b31=-math.cos(theta2)**2\n",
    "b32=-math.cos(theta2)*math.sin(theta2)\n",
    "b33=math.cos(theta2)**2\n",
    "b34=math.cos(theta2)*math.sin(theta2)\n",
    "\n",
    "b41=-math.cos(theta2)*math.sin(theta2)\n",
    "b42=-math.sin(theta2)**2\n",
    "b43=math.cos(theta2)*math.sin(theta2)\n",
    "b44=math.sin(theta2)**2"
   ]
  },
  {
   "cell_type": "code",
   "execution_count": 8,
   "metadata": {
    "id": "zD06qHlbDe_y"
   },
   "outputs": [],
   "source": [
    "K2=(E*A/L*math.sqrt(2))*np.array([[b11,b12,b13,b14],\n",
    "                     [b21,b22,b23,b24],\n",
    "                     [b31,b32,b33,b34],\n",
    "                     [b41,b42,b43,b44]])"
   ]
  },
  {
   "cell_type": "code",
   "execution_count": 9,
   "metadata": {
    "id": "d5kpdnnoDo_n"
   },
   "outputs": [],
   "source": [
    "#Element 3 (nodes 1 to 4)\n",
    "theta3=0\n",
    "L=120 #inc\n",
    "theta3 = math.radians(theta3)"
   ]
  },
  {
   "cell_type": "code",
   "execution_count": 10,
   "metadata": {
    "id": "CI-_HtqADrR8"
   },
   "outputs": [],
   "source": [
    "c11=math.cos(theta3)**2\n",
    "c12=math.cos(theta3)*math.sin(theta3)\n",
    "c13=-math.cos(theta3)**2\n",
    "c14=-math.cos(theta3)*math.sin(theta3)\n",
    "\n",
    "c21=math.cos(theta3)*math.sin(theta3)\n",
    "c22=math.sin(theta3)**2\n",
    "c23=-math.cos(theta3)*math.sin(theta3)\n",
    "c24=-math.sin(theta3)**2\n",
    "\n",
    "c31=-math.cos(theta3)**2\n",
    "c32=-math.cos(theta3)*math.sin(theta3)\n",
    "c33=math.cos(theta3)**2\n",
    "c34=math.cos(theta3)*math.sin(theta3)\n",
    "\n",
    "c41=-math.cos(theta3)*math.sin(theta3)\n",
    "c42=-math.sin(theta3)**2\n",
    "c43=math.cos(theta3)*math.sin(theta3)\n",
    "c44=math.sin(theta3)**2"
   ]
  },
  {
   "cell_type": "code",
   "execution_count": 11,
   "metadata": {
    "id": "pH0UuxkIDuyf"
   },
   "outputs": [],
   "source": [
    "K3=(E*A/L)*np.array([[c11,c12,c13,c14],\n",
    "                     [c21,c22,c23,c24],\n",
    "                     [c31,c32,c33,c34],\n",
    "                     [c41,c42,c43,c44]])"
   ]
  },
  {
   "cell_type": "code",
   "execution_count": 12,
   "metadata": {
    "id": "VgTYSFZVDx_i"
   },
   "outputs": [],
   "source": [
    "#Global Stiffness Matrix\n",
    "K_global= np.zeros((8,8))\n",
    "K_global[0:4, 0:4] += K1\n",
    "K_global[0:2,0:2] +=K2[0:2,0:2]\n",
    "K_global[0:2,4:6] +=K2[0:2,2:4]\n",
    "K_global[4:6,0:2] +=K2[2:4,0:2]\n",
    "K_global[4:6,4:6] +=K2[2:4,2:4]"
   ]
  },
  {
   "cell_type": "code",
   "execution_count": 13,
   "metadata": {
    "id": "_AZ_mODoD8k5"
   },
   "outputs": [],
   "source": [
    "K_global[0:2,0:2] +=K3[0:2,0:2]\n",
    "K_global[0:2,6:8] +=K3[0:2,2:4]\n",
    "K_global[6:8,0:2] +=K3[2:4,0:2]\n",
    "K_global[6:8,6:8] +=K3[2:4,2:4]"
   ]
  },
  {
   "cell_type": "code",
   "execution_count": 14,
   "metadata": {
    "id": "9SSz1wgdEBtn"
   },
   "outputs": [],
   "source": [
    "#Aplly the boundary condition\n",
    "K_boundary= K_global[0:2,0:2]"
   ]
  },
  {
   "cell_type": "code",
   "execution_count": 16,
   "metadata": {
    "id": "ufJTIGLuEJOc"
   },
   "outputs": [],
   "source": [
    "F = np.array([0, -10000])\n",
    "U = np.linalg.solve(K_boundary, F)\n"
   ]
  },
  {
   "cell_type": "code",
   "execution_count": 17,
   "metadata": {
    "colab": {
     "base_uri": "https://localhost:8080/"
    },
    "id": "hzo_ItEHENpf",
    "outputId": "5fe93f92-35aa-4b9c-c377-692d264d07ea"
   },
   "outputs": [
    {
     "name": "stdout",
     "output_type": "stream",
     "text": [
      "[ 0.00585786 -0.01414214]\n"
     ]
    }
   ],
   "source": [
    "print(U)"
   ]
  }
 ],
 "metadata": {
  "colab": {
   "provenance": []
  },
  "kernelspec": {
   "display_name": "Python 3",
   "language": "python",
   "name": "python3"
  },
  "language_info": {
   "codemirror_mode": {
    "name": "ipython",
    "version": 3
   },
   "file_extension": ".py",
   "mimetype": "text/x-python",
   "name": "python",
   "nbconvert_exporter": "python",
   "pygments_lexer": "ipython3",
   "version": "3.9.5"
  }
 },
 "nbformat": 4,
 "nbformat_minor": 1
}
